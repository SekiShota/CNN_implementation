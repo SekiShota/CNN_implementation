{
 "cells": [
  {
   "cell_type": "code",
   "execution_count": 5,
   "id": "458034ba",
   "metadata": {},
   "outputs": [
    {
     "name": "stdout",
     "output_type": "stream",
     "text": [
      "./image1/tama/*.jpg: resized!\n"
     ]
    }
   ],
   "source": [
    "import numpy as np\n",
    "import pandas as pd\n",
    "import matplotlib.pyplot as plt\n",
    "\n",
    "from icrawler.builtin import BingImageCrawler\n",
    "import os\n",
    "import re\n",
    "from PIL import Image\n",
    "import glob\n",
    "\n",
    "\n",
    "# 画像を収集するメソッド\n",
    "# 引数は画像を保存するパスpath、検索ワードkeyword、収集する枚数num\n",
    "\n",
    "def scraping(path, keyword, num):\n",
    "\n",
    "    bing_crawler=BingImageCrawler(\n",
    "    downloader_threads=4,\n",
    "    storage={'root_dir': path}\n",
    "    )\n",
    "\n",
    "    #検索ワードにkeywordを入れたときに得られる画像をnum枚収集\n",
    "    bing_crawler.crawl(\n",
    "        keyword=keyword,\n",
    "        max_num=num\n",
    "    )\n",
    "    print(f'{keyword}: scraping completed!')\n",
    "\n",
    "\n",
    "#ファイルの形式はjpegなので、ファイル名には必ず拡張子.jpgがつく\n",
    "asuka_path='./image1/asuka/*.jpg'\n",
    "tama_path='./image1/tama/*.jpg'\n",
    "\n",
    "keywords=['齋藤飛鳥','玉森裕太']\n",
    "num=600\n",
    "\n",
    "# scraping('./image1/asuka/', keywords[0], num)\n",
    "# scraping('./image1/tama/', keywords[1], num)\n",
    "\n",
    "# \"\"\"\n",
    "# 画像をリサイズするメソッド\n",
    "# 引数は保存したいパスpath=フォルダ名+フォーマット名、変更後のサイズの幅と高さw,h\n",
    "#\n",
    "# *リサイズしたい画像はパスで指定される\n",
    "# \"\"\"\n",
    "\n",
    "def resize_image(path, w, h):\n",
    "    img_paths=glob.glob(path)\n",
    "\n",
    "    for img_path in img_paths:\n",
    "        #画像ファイルに変換\n",
    "        img=Image.open(img_path)\n",
    "        #指定したサイズでリサイズをする\n",
    "        img_resized=img.resize((w,h))\n",
    "\n",
    "        #リサイズした画像を上書き保存、同じパスを指定\n",
    "        img_resized.save(img_path)\n",
    "    print(f'{path}: resized!')\n",
    "\n",
    "#サイズは300x300で指定\n",
    "width=300\n",
    "height=300\n",
    "\n",
    "# resize_image(asuka_path, width, height)\n",
    "resize_image(tama_path, width, height)\n"
   ]
  },
  {
   "cell_type": "code",
   "execution_count": null,
   "id": "358aed15",
   "metadata": {},
   "outputs": [],
   "source": []
  }
 ],
 "metadata": {
  "kernelspec": {
   "display_name": "Python 3 (ipykernel)",
   "language": "python",
   "name": "python3"
  },
  "language_info": {
   "codemirror_mode": {
    "name": "ipython",
    "version": 3
   },
   "file_extension": ".py",
   "mimetype": "text/x-python",
   "name": "python",
   "nbconvert_exporter": "python",
   "pygments_lexer": "ipython3",
   "version": "3.9.12"
  }
 },
 "nbformat": 4,
 "nbformat_minor": 5
}
